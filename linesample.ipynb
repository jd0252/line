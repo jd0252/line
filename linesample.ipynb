{
 "cells": [
  {
   "cell_type": "code",
   "execution_count": 29,
   "metadata": {},
   "outputs": [],
   "source": [
    "import twstock\n",
    "import pandas_datareader as web\n",
    "\n"
   ]
  },
  {
   "cell_type": "code",
   "execution_count": 30,
   "metadata": {},
   "outputs": [],
   "source": [
    "# 下載醉心收盤價價\n",
    "close = web.DataReader(name='^TWII', data_source='yahoo',start='2021-01-01')['Close'][-1]\n",
    "original=16408.35\n",
    "market_ret=(close-original)/original"
   ]
  },
  {
   "cell_type": "code",
   "execution_count": 31,
   "metadata": {},
   "outputs": [],
   "source": [
    "stocklist=['2317',\n",
    "'6415',\n",
    "'6488',\n",
    "'2881',\n",
    "'2882',\n",
    "'2454',\n",
    "'2886',\n",
    "'6282',\n",
    "'3141',\n",
    "'5483',\n",
    "'2727',\n",
    "'8255',\n",
    "'2634',\n",
    "'8069',\n",
    "'8454']"
   ]
  },
  {
   "cell_type": "code",
   "execution_count": 32,
   "metadata": {},
   "outputs": [],
   "source": [
    "cost=['103.75',\n",
    "'3935',\n",
    "'758',\n",
    "'74.95',\n",
    "'56.8',\n",
    "'869',\n",
    "'33',\n",
    "'28.8',\n",
    "'139',\n",
    "'174.5',\n",
    "'157.5',\n",
    "'194.75',\n",
    "'28.35',\n",
    "'71.5',\n",
    "'1575']"
   ]
  },
  {
   "cell_type": "code",
   "execution_count": 33,
   "metadata": {},
   "outputs": [],
   "source": [
    "df=twstock.realtime.get(stocklist)"
   ]
  },
  {
   "cell_type": "code",
   "execution_count": 34,
   "metadata": {},
   "outputs": [],
   "source": [
    "import datetime\n",
    "e = datetime.datetime.today()"
   ]
  },
  {
   "cell_type": "code",
   "execution_count": 40,
   "metadata": {},
   "outputs": [],
   "source": [
    "ret=0\n",
    "message=f'現在時間 {e:%Y-%m-%d (%a) %H:%M:%S}\\n'\n",
    "for i,j in zip(stocklist,range(len(stocklist))):\n",
    "    n=df[i]['info']['name']\n",
    "    p=float(df[i]['realtime']['latest_trade_price'])\n",
    "    c=float(cost[j])\n",
    "    r=round((p-c)/c*100,2)\n",
    "    ret+=r\n",
    "    message+=f'{j+1} {n:.5s} 現價 {p:.0f} 成本 {c:.0f} 報酬率 {r}% \\n'\n",
    "message+=f'\\n-----------總結----------- \\n當日大盤{close:.2f}\\n 10/4大盤 {original:.2f} \\n 大盤報酬 {market_ret*100:.2f} % 投組報酬 {ret/15:.2f} →{ret/15-market_ret*100:.2f} %  \\n'"
   ]
  },
  {
   "cell_type": "code",
   "execution_count": 41,
   "metadata": {},
   "outputs": [
    {
     "data": {
      "text/plain": [
       "'現在時間 2021-10-29 (Fri) 13:37:40\\n1 鴻海 現價 107 成本 104 報酬率 3.13% \\n2 矽力-KY 現價 4580 成本 3935 報酬率 16.39% \\n3 環球晶 現價 760 成本 758 報酬率 0.26% \\n4 富邦金 現價 74 成本 75 報酬率 -1.8% \\n5 國泰金 現價 58 成本 57 報酬率 2.29% \\n6 聯發科 現價 913 成本 869 報酬率 5.06% \\n7 兆豐金 現價 33 成本 33 報酬率 1.21% \\n8 康舒 現價 35 成本 29 報酬率 20.14% \\n9 晶宏 現價 216 成本 139 報酬率 55.4% \\n10 中美晶 現價 190 成本 174 報酬率 8.6% \\n11 王品 現價 144 成本 158 報酬率 -8.57% \\n12 朋程 現價 259 成本 195 報酬率 32.99% \\n13 漢翔 現價 28 成本 28 報酬率 -0.53% \\n14 元太 現價 92 成本 72 報酬率 28.53% \\n15 富邦媒 現價 1790 成本 1575 報酬率 13.65% \\n\\n-----------總結----------- \\n當日大盤17010.50\\n 10/4大盤 16408.35 \\n 大盤報酬 3.67 % 投組報酬 11.78 →8.11 %  \\n'"
      ]
     },
     "execution_count": 41,
     "metadata": {},
     "output_type": "execute_result"
    }
   ],
   "source": [
    "message"
   ]
  },
  {
   "cell_type": "markdown",
   "metadata": {
    "id": "3phkQGXne9Uv"
   },
   "source": [
    "----\n",
    "## Line API\n",
    "\n",
    "- - 申請開發者帳號\n",
    "- 申請line token\n",
    "- 以自己的token進行自己的警報"
   ]
  },
  {
   "cell_type": "markdown",
   "metadata": {
    "id": "nXZvkMsUe9Uv"
   },
   "source": [
    "- 第一個LINE通知服務練習: 請修改\"Title\"中的文字，以便分辨是自己傳送成功"
   ]
  },
  {
   "cell_type": "code",
   "execution_count": 44,
   "metadata": {
    "id": "UhiXSSSLe9Uw"
   },
   "outputs": [],
   "source": [
    "# 課程的token\n",
    "# 由：https://notify-bot.line.me/my/ 取得\n",
    "#0x9AUj9ueQDuJGXEO62djREkZO5AJ7BofSlRyYQByBz \n",
    "token ='BtBGtRC9DhF9riBGPfD5ODTl5J3C4A8dFPOMCEQzDcm'  # 私募\n",
    "#token = 'iZXZdsLKNDygqSfJ2gZtaZgVnHeSZ2fuzh7DX8PKAct'"
   ]
  },
  {
   "cell_type": "code",
   "execution_count": 45,
   "metadata": {
    "colab": {
     "base_uri": "https://localhost:8080/"
    },
    "id": "dyERf-6se9Uw",
    "outputId": "9407a2f8-959a-40b6-8827-8e8d13f6f817"
   },
   "outputs": [
    {
     "data": {
      "text/plain": [
       "<Response [200]>"
      ]
     },
     "execution_count": 45,
     "metadata": {},
     "output_type": "execute_result"
    }
   ],
   "source": [
    "import requests\n",
    "\n",
    "url = \"https://notify-api.line.me/api/notify\"  # --> 不支援http, 只能用https\n",
    "headers = {\"Authorization\" : \"Bearer \"+ token}\n",
    "title = '測試'\n",
    "payload = {\"message\" :  message}\n",
    "\n",
    "r = requests.post(url ,headers = headers ,params=payload)\n",
    "r"
   ]
  },
  {
   "cell_type": "code",
   "execution_count": null,
   "metadata": {},
   "outputs": [],
   "source": []
  }
 ],
 "metadata": {
  "colab": {
   "collapsed_sections": [],
   "name": "linesample",
   "provenance": []
  },
  "kernelspec": {
   "display_name": "Python 3",
   "language": "python",
   "name": "python3"
  },
  "language_info": {
   "codemirror_mode": {
    "name": "ipython",
    "version": 3
   },
   "file_extension": ".py",
   "mimetype": "text/x-python",
   "name": "python",
   "nbconvert_exporter": "python",
   "pygments_lexer": "ipython3",
   "version": "3.8.8"
  }
 },
 "nbformat": 4,
 "nbformat_minor": 1
}
